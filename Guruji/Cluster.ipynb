{
 "cells": [
  {
   "cell_type": "code",
   "execution_count": null,
   "metadata": {},
   "outputs": [],
   "source": [
    "import numpy as np\n",
    "import matplotlib.pyplot as plt\n",
    "import pandas as pd\n",
    "from astropy.stats import sigma_clip\n",
    "\n",
    "def data_io(str_name,columns=None,check_columns=None):\n",
    "    data=pd.read_csv(str_name, dtype = 'float', usecols = columns).values\n",
    "    data=np.delete(data,np.where(np.isnan(data[:,check_columns])), axis = 0)\n",
    "    print(\"Contains {} stars and {} columns\".format(data.shape[0],data.shape[1]))\n",
    "    return data\n",
    "\n",
    "def proper_motion(pmra,pmdec):\n",
    "    plt.scatter(pmra,pmdec,s=1)\n",
    "    plt.xlabel('pmra')\n",
    "    plt.ylabel('pmdec')\n",
    "    plt.title('Proper Motions')\n",
    "\n",
    "def parallax(para,bins):\n",
    "    plt.hist(para,bins=bins);\n",
    "\n",
    "def clip(data,check_columns,sigma,maxiters):\n",
    "    a=sigma_clip(data[:,check_columns], sigma = sigma, maxiters = maxiters, masked = False, axis = 0)\n",
    "    a=np.delete(a,np.where(np.isnan(a)),axis=0).transpose()\n",
    "    ind=[]\n",
    "    for i in range (data.shape[0]):\n",
    "        if data[i,check_columns[0]] in a[0]:\n",
    "             ind.append(i)\n",
    "    return data[ind]\n",
    "\n",
    "def color_mag(color,mag):\n",
    "    plt.scatter(color,mag,s=1)\n",
    "    plt.ylim(mag.max()+0.5,mag.min()-0.5)"
   ]
  }
 ],
 "metadata": {
  "kernelspec": {
   "display_name": "Python 3",
   "language": "python",
   "name": "python3"
  },
  "language_info": {
   "codemirror_mode": {
    "name": "ipython",
    "version": 3
   },
   "file_extension": ".py",
   "mimetype": "text/x-python",
   "name": "python",
   "nbconvert_exporter": "python",
   "pygments_lexer": "ipython3",
   "version": "3.6.7"
  }
 },
 "nbformat": 4,
 "nbformat_minor": 2
}
