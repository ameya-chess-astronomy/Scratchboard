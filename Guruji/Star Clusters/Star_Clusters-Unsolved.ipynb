{
 "cells": [
  {
   "cell_type": "markdown",
   "metadata": {},
   "source": [
    "<h1><center>Exploring Star Clusters</center></h1>"
   ]
  },
  {
   "cell_type": "markdown",
   "metadata": {},
   "source": [
    "All of you would have, by now, a (hopefully) good understanding of python and stellar evolution. Now, let's have some fun and explore some data sets\n",
    "The data has been taken from the [HST UV Globular Cluster Survey (HUGS)](https://archive.stsci.edu/prepds/hugs/#dataaccess), from the [Mikulski Archive for Space Telescopes (MAST)](https://archive.stsci.edu/index.html)\n",
    "\n",
    "It is of a famous globular cluster called M13 in Hercules."
   ]
  },
  {
   "cell_type": "code",
   "execution_count": null,
   "metadata": {},
   "outputs": [],
   "source": [
    "import numpy as np\n",
    "import matplotlib.pyplot as plt"
   ]
  },
  {
   "cell_type": "code",
   "execution_count": null,
   "metadata": {},
   "outputs": [],
   "source": [
    "data=np.loadtxt('dataset.txt',usecols=(2,3,8,9,14,15,20,21,26,27,32,33,34),dtype='float',comments='#')"
   ]
  },
  {
   "cell_type": "code",
   "execution_count": null,
   "metadata": {},
   "outputs": [],
   "source": [
    "data.shape"
   ]
  },
  {
   "cell_type": "markdown",
   "metadata": {},
   "source": [
    "So, we have data on 174,767 stars.\n",
    "The column on membership probability looks interesting. Let's dig deeper."
   ]
  },
  {
   "cell_type": "code",
   "execution_count": null,
   "metadata": {
    "scrolled": false
   },
   "outputs": [],
   "source": [
    "# plot a histogram of the membership probability"
   ]
  },
  {
   "cell_type": "markdown",
   "metadata": {},
   "source": [
    "It seems as though almost 100,000 stars in the field of view have almost 0 probability of belonging to the cluster. Let us remove them from the data."
   ]
  },
  {
   "cell_type": "code",
   "execution_count": null,
   "metadata": {},
   "outputs": [],
   "source": [
    "data=data[data[...]>=90] # we will set 90% as the cutoff"
   ]
  },
  {
   "cell_type": "code",
   "execution_count": null,
   "metadata": {},
   "outputs": [],
   "source": [
    "data.shape"
   ]
  },
  {
   "cell_type": "markdown",
   "metadata": {},
   "source": [
    "And like that, we now have 73,388 stars. For fun, let's plot the membership probability of the rest of the stars."
   ]
  },
  {
   "cell_type": "code",
   "execution_count": null,
   "metadata": {},
   "outputs": [],
   "source": [
    "# plot the membership probablilty histogram again"
   ]
  },
  {
   "cell_type": "markdown",
   "metadata": {},
   "source": [
    "As many of you may have seen, the magnitudes in the dataset had absurd values like -99 and so on. Now we must deal with problems in the magnitude data. Plot histograms to see how many of these stars are there in each band."
   ]
  },
  {
   "cell_type": "code",
   "execution_count": null,
   "metadata": {},
   "outputs": [],
   "source": [
    "# use plt.subplots() to plot histograms of magnitudes of each band"
   ]
  },
  {
   "cell_type": "markdown",
   "metadata": {},
   "source": [
    "There are a few sources which are saturated and show magnitude as -99. These must first be removed. So let's do that"
   ]
  },
  {
   "cell_type": "code",
   "execution_count": null,
   "metadata": {},
   "outputs": [],
   "source": [
    "ind=np.where(data[:,0:10]<=-99)\n",
    "unsat_data=np.delete(data,ind,axis=0)"
   ]
  },
  {
   "cell_type": "code",
   "execution_count": null,
   "metadata": {},
   "outputs": [],
   "source": [
    "unsat_data.shape"
   ]
  },
  {
   "cell_type": "markdown",
   "metadata": {},
   "source": [
    "It is possible that at lower magnitudes, the photometric RMS of the source could be high, i.e. the photometry is not precise, since the noise itself would be almost indistinguishable from the signal. Let's see how that varies"
   ]
  },
  {
   "cell_type": "code",
   "execution_count": null,
   "metadata": {},
   "outputs": [],
   "source": [
    "# use subplots again, this time for a scatter-plot between the magnitude and the photometric rms"
   ]
  },
  {
   "cell_type": "markdown",
   "metadata": {},
   "source": [
    "So, now we must account for this uncertainty by limiting the data we use. Play around a bit with a limiting magnitude, until you get a good enough limit on the RMS."
   ]
  },
  {
   "cell_type": "code",
   "execution_count": null,
   "metadata": {},
   "outputs": [],
   "source": [
    "ind_=np.where(unsat_data[:,6]>...)"
   ]
  },
  {
   "cell_type": "code",
   "execution_count": null,
   "metadata": {},
   "outputs": [],
   "source": [
    "clean_data=np.array(np.delete(unsat_data,ind_,axis=0))"
   ]
  },
  {
   "cell_type": "code",
   "execution_count": null,
   "metadata": {},
   "outputs": [],
   "source": [
    "clean_data.shape"
   ]
  },
  {
   "cell_type": "code",
   "execution_count": null,
   "metadata": {},
   "outputs": [],
   "source": [
    "# plot the RMS values vs the magnitudes now"
   ]
  },
  {
   "cell_type": "markdown",
   "metadata": {},
   "source": [
    "Now, for ease of plotting, let's unpack the different bands, and name them according to the [WFC3 Filters](http://www.stsci.edu/itt/APT_help/WFC3_Cycle21/c06_uvis06.html#371242) of the Hubble Space Telescope"
   ]
  },
  {
   "cell_type": "code",
   "execution_count": null,
   "metadata": {},
   "outputs": [],
   "source": [
    "uv,u,b,v,i=clean_data[:,0:10:2].transpose()"
   ]
  },
  {
   "cell_type": "markdown",
   "metadata": {},
   "source": [
    "And now, the showdown. We can finally plot a colour-magnitude diagram of the globular cluster."
   ]
  },
  {
   "cell_type": "code",
   "execution_count": null,
   "metadata": {},
   "outputs": [],
   "source": [
    "# remember to invert the Y-axis"
   ]
  },
  {
   "cell_type": "markdown",
   "metadata": {},
   "source": [
    "Study the color magnitude diagram carefully. What branches can you clearly make out. What could the stars beyond the main sequence be? \n",
    "\n",
    "Take a bit of time, and plot more of these diagrams, changing the bands used to calculate the colour. See how the diagram changes\n",
    "\n",
    "We can also plot a color-color diagram to see where the main sequence lies with respect to other stages."
   ]
  },
  {
   "cell_type": "code",
   "execution_count": null,
   "metadata": {},
   "outputs": [],
   "source": [
    "plt.figure(figsize=(8,8))\n",
    "plt.scatter(...)"
   ]
  },
  {
   "cell_type": "markdown",
   "metadata": {},
   "source": [
    "Given that we know the magnitudes and RA-dec of the stars, we can attempt to reconstruct the image of the globular cluster."
   ]
  },
  {
   "cell_type": "code",
   "execution_count": null,
   "metadata": {},
   "outputs": [],
   "source": [
    "ra,dec=clean_data[...].transpose()"
   ]
  },
  {
   "cell_type": "code",
   "execution_count": null,
   "metadata": {},
   "outputs": [],
   "source": [
    "plt.figure(figsize=(12,12))\n",
    "plt.scatter(ra,dec,s=...,color='g',alpha=0.1)\n",
    "plt.scatter(ra,dec,s=...,color='r',alpha=0.1)\n",
    "plt.scatter(ra,dec,s=...,color='b',alpha=0.1)\n",
    "plt.xlim(250.47,250.38)"
   ]
  },
  {
   "cell_type": "markdown",
   "metadata": {},
   "source": [
    "Now, that we are more familiar with the how a colour magnitude diagram works, let's try to estimate the age of the cluster. We will need a few assumptions to go about this task."
   ]
  },
  {
   "cell_type": "markdown",
   "metadata": {},
   "source": [
    "We need to eventually relate the **Luminosity** to the **time spent in Main Sequence**. Can we come up with such a relation? "
   ]
  },
  {
   "cell_type": "markdown",
   "metadata": {},
   "source": [
    "Let the Luminosity at the turn off point be $L_{TO}$. We can relate $L_{TO}$ to $L_\\odot$ if we know the absolute magnitude of the sun(which we do) and the absolute magnitude of the star(which we don't directly). But, if we know the distance to the star cluster, then knowing the apparent magnitude is equivalent to knowing the absolute mamgnitude. So what is the apparent magnitude of a star at the Turn Off point?\n",
    "\n",
    "We go to the HR Diagram. Calculate the values, and then we can compare it to independent sources."
   ]
  },
  {
   "cell_type": "code",
   "execution_count": null,
   "metadata": {},
   "outputs": [],
   "source": []
  }
 ],
 "metadata": {
  "kernelspec": {
   "display_name": "Python 3",
   "language": "python",
   "name": "python3"
  },
  "language_info": {
   "codemirror_mode": {
    "name": "ipython",
    "version": 3
   },
   "file_extension": ".py",
   "mimetype": "text/x-python",
   "name": "python",
   "nbconvert_exporter": "python",
   "pygments_lexer": "ipython3",
   "version": "3.6.7"
  }
 },
 "nbformat": 4,
 "nbformat_minor": 2
}
